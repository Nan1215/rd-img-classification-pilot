{
 "cells": [
  {
   "cell_type": "code",
   "execution_count": 1,
   "metadata": {},
   "outputs": [],
   "source": [
    "import pandas as pd\n",
    "import os"
   ]
  },
  {
   "cell_type": "code",
   "execution_count": 22,
   "metadata": {},
   "outputs": [
    {
     "name": "stdout",
     "output_type": "stream",
     "text": [
      "building 4128\n"
     ]
    }
   ],
   "source": [
    "#check number of images per cat in dataset\n",
    "data_path = '/home/jcejudo/training_data_3000_open_permission'\n",
    "\n",
    "for cat in os.listdir(data_path):\n",
    "    print(cat,len(os.listdir(os.path.join(data_path,cat))))"
   ]
  },
  {
   "cell_type": "code",
   "execution_count": 10,
   "metadata": {},
   "outputs": [
    {
     "name": "stdout",
     "output_type": "stream",
     "text": [
      "(36914, 5)\n",
      "(49292, 5)\n",
      "(86206, 5)\n"
     ]
    }
   ],
   "source": [
    "#merge open and permission dataset\n",
    "\n",
    "permission_df = pd.read_csv('/home/jcejudo/rd-img-classification-pilot/data/dataset_3000_permission.csv')\n",
    "print(permission_df.shape)\n",
    "open_df = pd.read_csv('/home/jcejudo/rd-img-classification-pilot/data/dataset_3000_open.csv')\n",
    "print(open_df.shape)\n",
    "df = pd.concat((open_df,permission_df))\n",
    "print(df.shape)\n",
    "saving_dir = '/home/jcejudo/rd-img-classification-pilot/data/'\n",
    "filename = 'dataset_3000_open_permission.csv'\n",
    "df.to_csv(os.path.join(saving_dir,filename),index=False)"
   ]
  },
  {
   "cell_type": "code",
   "execution_count": 2,
   "metadata": {},
   "outputs": [],
   "source": [
    "#sample small dataset\n",
    "\n",
    "from shutil import copyfile\n",
    "import numpy as np\n",
    "\n",
    "def create_dir(path):\n",
    "    if not os.path.exists(path):\n",
    "        os.mkdir(path)\n",
    "\n",
    "n = 100\n",
    "saving_dir = '/home/jcejudo/training_data_100'\n",
    "create_dir(saving_dir)\n",
    "\n",
    "data_path = '/home/jcejudo/training_data_3000_open_permission'\n",
    "for cat in os.listdir(data_path):\n",
    "    create_dir(os.path.join(saving_dir,cat))\n",
    "    filename_list = os.listdir(os.path.join(data_path,cat))\n",
    "    idx = np.random.randint(len(filename_list),size=n)\n",
    "    filtered_filename_list = [filename_list[i] for i in idx]\n",
    "    \n",
    "    for fname in filtered_filename_list:\n",
    "        src_path = os.path.join(data_path,cat,fname)\n",
    "        dest_path = os.path.join(saving_dir,cat,fname)\n",
    "        copyfile(src_path,dest_path)\n",
    "        \n",
    "        \n",
    "    \n"
   ]
  },
  {
   "cell_type": "code",
   "execution_count": 5,
   "metadata": {},
   "outputs": [
    {
     "name": "stdout",
     "output_type": "stream",
     "text": [
      "building\n",
      "toy\n",
      "map\n",
      "textile\n",
      "clothing\n",
      "woodwork\n",
      "photograph\n",
      "ceramics\n",
      "inscription\n",
      "costume_accessories\n",
      "furniture\n",
      "weaponry\n",
      "archaeological_site\n",
      "painting\n",
      "specimen\n",
      "tapestry\n",
      "drawing\n",
      "postcard\n",
      "sculpture\n",
      "jewellery\n"
     ]
    }
   ],
   "source": [
    "#open all images of dataset\n",
    "from PIL import Image\n",
    "data_path = '/home/jcejudo/training_data_3000_open_permission'\n",
    "\n",
    "for cat in os.listdir(data_path):\n",
    "    print(cat)\n",
    "    for fname in os.listdir(os.path.join(data_path,cat)):\n",
    "        Image.open(os.path.join(data_path,cat,fname))"
   ]
  },
  {
   "cell_type": "code",
   "execution_count": 12,
   "metadata": {},
   "outputs": [
    {
     "data": {
      "text/plain": [
       "1991"
      ]
     },
     "execution_count": 12,
     "metadata": {},
     "output_type": "execute_result"
    }
   ],
   "source": [
    "import pandas as pd\n",
    "\n",
    "df = pd.read_csv('/home/jcejudo/rd-img-classification-pilot/data/tapestry.csv')\n",
    "len(df.ID.unique())"
   ]
  },
  {
   "cell_type": "code",
   "execution_count": 13,
   "metadata": {},
   "outputs": [
    {
     "data": {
      "text/plain": [
       "940"
      ]
     },
     "execution_count": 13,
     "metadata": {},
     "output_type": "execute_result"
    }
   ],
   "source": [
    "df = pd.read_csv('/home/jcejudo/rd-img-classification-pilot/data/dataset_3000_open_permission.csv')\n",
    "len(df.loc[df['category'] == 'tapestry'].ID.unique())"
   ]
  },
  {
   "cell_type": "code",
   "execution_count": null,
   "metadata": {},
   "outputs": [],
   "source": []
  }
 ],
 "metadata": {
  "kernelspec": {
   "display_name": "Python 3",
   "language": "python",
   "name": "python3"
  },
  "language_info": {
   "codemirror_mode": {
    "name": "ipython",
    "version": 3
   },
   "file_extension": ".py",
   "mimetype": "text/x-python",
   "name": "python",
   "nbconvert_exporter": "python",
   "pygments_lexer": "ipython3",
   "version": "3.8.5"
  }
 },
 "nbformat": 4,
 "nbformat_minor": 4
}
