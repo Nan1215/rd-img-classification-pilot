{
 "cells": [
  {
   "cell_type": "code",
   "execution_count": 1,
   "metadata": {},
   "outputs": [],
   "source": [
    "import pandas as pd\n",
    "import os"
   ]
  },
  {
   "cell_type": "code",
   "execution_count": 22,
   "metadata": {},
   "outputs": [
    {
     "name": "stdout",
     "output_type": "stream",
     "text": [
      "building 4128\n"
     ]
    }
   ],
   "source": [
    "#check number of images per cat in dataset\n",
    "data_path = '/home/jcejudo/training_data_3000_open_permission'\n",
    "\n",
    "for cat in os.listdir(data_path):\n",
    "    print(cat,len(os.listdir(os.path.join(data_path,cat))))"
   ]
  },
  {
   "cell_type": "code",
   "execution_count": 10,
   "metadata": {},
   "outputs": [
    {
     "name": "stdout",
     "output_type": "stream",
     "text": [
      "(36914, 5)\n",
      "(49292, 5)\n",
      "(86206, 5)\n"
     ]
    }
   ],
   "source": [
    "#merge open and permission dataset\n",
    "\n",
    "permission_df = pd.read_csv('/home/jcejudo/rd-img-classification-pilot/data/dataset_3000_permission.csv')\n",
    "print(permission_df.shape)\n",
    "open_df = pd.read_csv('/home/jcejudo/rd-img-classification-pilot/data/dataset_3000_open.csv')\n",
    "print(open_df.shape)\n",
    "df = pd.concat((open_df,permission_df))\n",
    "print(df.shape)\n",
    "saving_dir = '/home/jcejudo/rd-img-classification-pilot/data/'\n",
    "filename = 'dataset_3000_open_permission.csv'\n",
    "df.to_csv(os.path.join(saving_dir,filename),index=False)"
   ]
  },
  {
   "cell_type": "code",
   "execution_count": 2,
   "metadata": {},
   "outputs": [],
   "source": [
    "#sample small dataset\n",
    "\n",
    "from shutil import copyfile\n",
    "import numpy as np\n",
    "\n",
    "def create_dir(path):\n",
    "    if not os.path.exists(path):\n",
    "        os.mkdir(path)\n",
    "\n",
    "n = 100\n",
    "saving_dir = '/home/jcejudo/training_data_100'\n",
    "create_dir(saving_dir)\n",
    "\n",
    "data_path = '/home/jcejudo/training_data_3000_open_permission'\n",
    "for cat in os.listdir(data_path):\n",
    "    create_dir(os.path.join(saving_dir,cat))\n",
    "    filename_list = os.listdir(os.path.join(data_path,cat))\n",
    "    idx = np.random.randint(len(filename_list),size=n)\n",
    "    filtered_filename_list = [filename_list[i] for i in idx]\n",
    "    \n",
    "    for fname in filtered_filename_list:\n",
    "        src_path = os.path.join(data_path,cat,fname)\n",
    "        dest_path = os.path.join(saving_dir,cat,fname)\n",
    "        copyfile(src_path,dest_path)\n",
    "        \n",
    "        \n",
    "    \n"
   ]
  },
  {
   "cell_type": "code",
   "execution_count": 5,
   "metadata": {},
   "outputs": [
    {
     "name": "stdout",
     "output_type": "stream",
     "text": [
      "building\n",
      "toy\n",
      "map\n",
      "textile\n",
      "clothing\n",
      "woodwork\n",
      "photograph\n",
      "ceramics\n",
      "inscription\n",
      "costume_accessories\n",
      "furniture\n",
      "weaponry\n",
      "archaeological_site\n",
      "painting\n",
      "specimen\n",
      "tapestry\n",
      "drawing\n",
      "postcard\n",
      "sculpture\n",
      "jewellery\n"
     ]
    }
   ],
   "source": [
    "#open all images of dataset\n",
    "from PIL import Image\n",
    "data_path = '/home/jcejudo/training_data_3000_open_permission'\n",
    "\n",
    "for cat in os.listdir(data_path):\n",
    "    print(cat)\n",
    "    for fname in os.listdir(os.path.join(data_path,cat)):\n",
    "        Image.open(os.path.join(data_path,cat,fname))"
   ]
  },
  {
   "cell_type": "code",
   "execution_count": 11,
   "metadata": {},
   "outputs": [
    {
     "data": {
      "text/plain": [
       "(7024, 5)"
      ]
     },
     "execution_count": 11,
     "metadata": {},
     "output_type": "execute_result"
    }
   ],
   "source": [
    "import pandas as pd\n",
    "df_path = '/home/jcejudo/rd-img-classification-pilot/data/multilabel/multilabel_dataset.csv'\n",
    "\n",
    "df = pd.read_csv(df_path)\n",
    "df.shape"
   ]
  },
  {
   "cell_type": "code",
   "execution_count": null,
   "metadata": {},
   "outputs": [],
   "source": []
  },
  {
   "cell_type": "code",
   "execution_count": 12,
   "metadata": {},
   "outputs": [
    {
     "data": {
      "text/plain": [
       "(1023, 5)"
      ]
     },
     "execution_count": 12,
     "metadata": {},
     "output_type": "execute_result"
    }
   ],
   "source": [
    "\n",
    "_df = df.loc[df['category'].apply(lambda x: 'ceramics' in x)]\n",
    "_df.shape"
   ]
  },
  {
   "cell_type": "code",
   "execution_count": 5,
   "metadata": {},
   "outputs": [
    {
     "data": {
      "text/plain": [
       "False"
      ]
     },
     "execution_count": 5,
     "metadata": {},
     "output_type": "execute_result"
    }
   ],
   "source": [
    "'ceramics' in df['category']"
   ]
  },
  {
   "cell_type": "code",
   "execution_count": 13,
   "metadata": {},
   "outputs": [
    {
     "data": {
      "text/plain": [
       "940"
      ]
     },
     "execution_count": 13,
     "metadata": {},
     "output_type": "execute_result"
    }
   ],
   "source": [
    "df = pd.read_csv('/home/jcejudo/rd-img-classification-pilot/data/dataset_3000_open_permission.csv')\n",
    "len(df.loc[df['category'] == 'tapestry'].ID.unique())"
   ]
  },
  {
   "cell_type": "code",
   "execution_count": 17,
   "metadata": {},
   "outputs": [
    {
     "name": "stdout",
     "output_type": "stream",
     "text": [
      "(4382, 7)\n"
     ]
    }
   ],
   "source": [
    "import pandas as pd\n",
    "\n",
    "from pathlib import Path\n",
    "\n",
    "def id_to_filename(id):\n",
    "    return id.replace('/','[ph]')\n",
    "\n",
    "data_dir = Path('/home/jcejudo/training_data_multilabel')\n",
    "\n",
    "df_path = Path('/home/jcejudo/rd-img-classification-pilot/data/multilabel/multilabel_dataset.csv')\n",
    "df = pd.read_csv(df_path)\n",
    "#filter images in df contained in data_path\n",
    "imgs_list = list(data_dir.iterdir())\n",
    "df['filepath'] = df['ID'].apply(lambda x:data_dir.joinpath(id_to_filename(x)+'.jpg'))\n",
    "df = df.loc[df['filepath'].apply(lambda x: Path(x) in imgs_list)]\n",
    "df['n_labels'] = df['category'].apply(lambda x: len(x.split()))\n",
    "df = df.sort_values(by='n_labels',ascending=False)\n",
    "df = df.drop_duplicates()\n",
    "print(df.shape)"
   ]
  },
  {
   "cell_type": "code",
   "execution_count": 18,
   "metadata": {},
   "outputs": [],
   "source": [
    "df.to_csv('/home/jcejudo/streamlit_app/cleaned_multilabel.csv',index = False)"
   ]
  },
  {
   "cell_type": "code",
   "execution_count": 19,
   "metadata": {},
   "outputs": [],
   "source": [
    "import pandas as pd\n",
    "df_path = Path('/home/jcejudo/streamlit_app/cleaned_multilabel.csv')\n",
    "df = pd.read_csv(df_path)\n"
   ]
  },
  {
   "cell_type": "code",
   "execution_count": 25,
   "metadata": {},
   "outputs": [
    {
     "data": {
      "text/plain": [
       "['woodwork',\n",
       " 'jewellery',\n",
       " 'painting',\n",
       " 'ceramics',\n",
       " 'sculpture',\n",
       " 'specimen',\n",
       " 'textile',\n",
       " 'map',\n",
       " 'tapestry',\n",
       " 'drawing',\n",
       " 'postcard',\n",
       " 'building',\n",
       " 'photograph',\n",
       " 'furniture',\n",
       " 'toy']"
      ]
     },
     "execution_count": 25,
     "metadata": {},
     "output_type": "execute_result"
    }
   ],
   "source": [
    "unique_categories = []\n",
    "for cat in df['category'].values:\n",
    "    unique_categories += cat.split()\n",
    "    \n",
    "unique_categories = list(set(unique_categories))"
   ]
  },
  {
   "cell_type": "code",
   "execution_count": null,
   "metadata": {},
   "outputs": [],
   "source": []
  },
  {
   "cell_type": "code",
   "execution_count": null,
   "metadata": {},
   "outputs": [],
   "source": []
  }
 ],
 "metadata": {
  "kernelspec": {
   "display_name": "Python 3",
   "language": "python",
   "name": "python3"
  },
  "language_info": {
   "codemirror_mode": {
    "name": "ipython",
    "version": 3
   },
   "file_extension": ".py",
   "mimetype": "text/x-python",
   "name": "python",
   "nbconvert_exporter": "python",
   "pygments_lexer": "ipython3",
   "version": "3.8.5"
  }
 },
 "nbformat": 4,
 "nbformat_minor": 4
}
