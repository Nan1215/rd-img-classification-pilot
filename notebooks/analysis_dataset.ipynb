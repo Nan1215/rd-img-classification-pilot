{
 "cells": [
  {
   "cell_type": "code",
   "execution_count": 1,
   "metadata": {},
   "outputs": [],
   "source": [
    "import sys\n",
    "sys.path.append('/home/jcejudo/rd-img-classification-pilot/src')\n",
    "from ds_utils import *\n",
    "from notebook_env import *\n",
    "from PIL import Image"
   ]
  },
  {
   "cell_type": "code",
   "execution_count": 122,
   "metadata": {},
   "outputs": [
    {
     "name": "stdout",
     "output_type": "stream",
     "text": [
      "clothing 1008\n",
      "inscription 434\n",
      "costume_accessories 1003\n",
      "weaponry 1003\n",
      "archaeological_site 835\n"
     ]
    }
   ],
   "source": [
    "import os\n",
    "root_data_path = '/home/jcejudo/rd-img-classification-pilot/training_data/getty'\n",
    "for cat in os.listdir(root_data_path):\n",
    "    print(cat,len(os.listdir(os.path.join(root_data_path,cat))))"
   ]
  },
  {
   "cell_type": "code",
   "execution_count": 3,
   "metadata": {},
   "outputs": [
    {
     "name": "stdout",
     "output_type": "stream",
     "text": [
      "toy.csv\n",
      "food.csv\n",
      "painting.csv\n",
      "map.csv\n",
      "costume_accessories.csv\n",
      "medal.csv\n",
      "musical_instrument.csv\n",
      "poster.csv\n",
      "postcard.csv\n",
      "inscription.csv\n",
      "furniture.csv\n",
      "archaeological_site.csv\n",
      "sculpture.csv\n",
      "building.csv\n",
      "machinery.csv\n",
      "photograph.csv\n",
      "metalwork.csv\n",
      "weaponry.csv\n",
      "tapestry.csv\n",
      "glassware.csv\n",
      "clothing.csv\n",
      "drawing.csv\n",
      "jewellery.csv\n",
      "tool.csv\n",
      "ceramics.csv\n",
      "toy.csv\n",
      "painting.csv\n",
      "map.csv\n",
      "postcard.csv\n",
      "furniture.csv\n",
      "sculpture.csv\n",
      "building.csv\n",
      "photograph.csv\n",
      "textile.csv\n",
      "woodwork.csv\n",
      "specimen.csv\n",
      "tapestry.csv\n",
      "drawing.csv\n",
      "jewellery.csv\n",
      "ceramics.csv\n",
      "(18744, 6)\n",
      "Index(['skos_concept', 'URI', 'ID', 'URL', 'filename', 'category'], dtype='object')\n"
     ]
    }
   ],
   "source": [
    "#data wrangling\n",
    "\n",
    "# get europeana context from labeled images\n",
    "def replace_str(x,target,rep):\n",
    "    return x.replace(target,rep)+'.jpg'\n",
    "\n",
    "def get_fname(path):\n",
    "    return os.path.split(path)[1]\n",
    "\n",
    "\n",
    "def get_europeana_df(data):\n",
    "    #get a df with europeana context\n",
    "    df_root_path = '/home/jcejudo/rd-img-classification-pilot/data'\n",
    "    df_path = os.path.join(df_root_path,data)\n",
    "    df = pd.DataFrame(columns=['category', 'skos_concept', 'URI', 'ID', 'URL'])\n",
    "    for fname in os.listdir(df_path):\n",
    "        #print(fname)\n",
    "        df = pd.concat((df,pd.read_csv(os.path.join(df_path,fname))))\n",
    "\n",
    "    df['filename'] = df['ID'].apply(lambda x:replace_str(x,'/','__placeholder__'))\n",
    "    df.pop('category')\n",
    "    df['filename'].values\n",
    "\n",
    "    #get dataframe for labeled files\n",
    "    root_data_path = '/home/jcejudo/rd-img-classification-pilot/training_data/'\n",
    "    data_path = os.path.join(root_data_path,data)\n",
    "    file_df = path2DataFrame(data_path)\n",
    "    file_df['filename'] = file_df['file_path'].apply(lambda x:get_fname(x))\n",
    "    file_df.pop('file_path')\n",
    "    file_df['filename'].values\n",
    "\n",
    "    #merge by filename\n",
    "    result = pd.merge(df, file_df, on=\"filename\")\n",
    "    return result\n",
    "\n",
    "\n",
    "getty_df = get_europeana_df('getty')\n",
    "ec_df = get_europeana_df('ec')\n",
    "df = pd.concat((getty_df,ec_df))\n",
    "print(df.shape)\n",
    "print(df.columns)\n"
   ]
  },
  {
   "cell_type": "code",
   "execution_count": 4,
   "metadata": {},
   "outputs": [],
   "source": [
    "#save csv\n",
    "filename = 'dataset.csv'\n",
    "dest_path = '/home/jcejudo/rd-img-classification-pilot/data'\n",
    "dest_file_path = os.path.join(dest_path,filename)\n",
    "df.to_csv(dest_file_path,index=False)"
   ]
  },
  {
   "cell_type": "code",
   "execution_count": null,
   "metadata": {},
   "outputs": [],
   "source": []
  },
  {
   "cell_type": "code",
   "execution_count": null,
   "metadata": {},
   "outputs": [],
   "source": []
  },
  {
   "cell_type": "code",
   "execution_count": null,
   "metadata": {},
   "outputs": [],
   "source": []
  },
  {
   "cell_type": "code",
   "execution_count": 369,
   "metadata": {},
   "outputs": [],
   "source": [
    "\n",
    "root_data = '/home/jcejudo/rd-img-classification-pilot/training_data/ec/'\n",
    "\n",
    "for cat in os.listdir(root_data):\n",
    "    root_cat_data = os.path.join(root_data,cat)\n",
    "    for fname in os.listdir(root_cat_data):\n",
    "        new_name = fname.replace('%2F','__placeholder__')\n",
    "        os.rename(os.path.join(root_cat_data,fname),os.path.join(root_cat_data,new_name))\n"
   ]
  },
  {
   "cell_type": "code",
   "execution_count": 231,
   "metadata": {},
   "outputs": [
    {
     "name": "stdout",
     "output_type": "stream",
     "text": [
      "(14346,)\n"
     ]
    }
   ],
   "source": [
    "import sys\n",
    "sys.path.append('/home/jcejudo/rd-img-classification-pilot/src')\n",
    "from ds_utils import *\n",
    "from notebook_env import *\n",
    "from PIL import Image\n",
    "\n",
    "data_path = '/home/jcejudo/rd-img-classification-pilot/training_data/ec'\n",
    "\n",
    "\n",
    "df = path2DataFrame(data_path)\n",
    "\n",
    "X = df['file_path'].values\n",
    "print(X.shape)"
   ]
  },
  {
   "cell_type": "code",
   "execution_count": 232,
   "metadata": {},
   "outputs": [],
   "source": [
    "for img_path in X:\n",
    "    try:\n",
    "        Image.open(img_path)\n",
    "    except:\n",
    "        try:\n",
    "            os.remove(img_path)\n",
    "        except:\n",
    "        \n",
    "            print(img_path)\n",
    "    "
   ]
  },
  {
   "cell_type": "code",
   "execution_count": null,
   "metadata": {},
   "outputs": [],
   "source": []
  }
 ],
 "metadata": {
  "kernelspec": {
   "display_name": "Python 3",
   "language": "python",
   "name": "python3"
  },
  "language_info": {
   "codemirror_mode": {
    "name": "ipython",
    "version": 3
   },
   "file_extension": ".py",
   "mimetype": "text/x-python",
   "name": "python",
   "nbconvert_exporter": "python",
   "pygments_lexer": "ipython3",
   "version": "3.8.5"
  }
 },
 "nbformat": 4,
 "nbformat_minor": 4
}
