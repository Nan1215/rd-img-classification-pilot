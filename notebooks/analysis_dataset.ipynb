{
 "cells": [
  {
   "cell_type": "code",
   "execution_count": 1,
   "metadata": {},
   "outputs": [],
   "source": [
    "import sys\n",
    "sys.path.append('../src')\n",
    "from ds_utils import *\n",
    "from PIL import Image"
   ]
  },
  {
   "cell_type": "code",
   "execution_count": 2,
   "metadata": {},
   "outputs": [],
   "source": [
    "import pandas as pd\n",
    "df = pd.read_csv('/home/jcejudo/rd-img-classification-pilot/conversion_vocabularies.csv')"
   ]
  },
  {
   "cell_type": "code",
   "execution_count": 3,
   "metadata": {},
   "outputs": [
    {
     "data": {
      "text/html": [
       "<div>\n",
       "<style scoped>\n",
       "    .dataframe tbody tr th:only-of-type {\n",
       "        vertical-align: middle;\n",
       "    }\n",
       "\n",
       "    .dataframe tbody tr th {\n",
       "        vertical-align: top;\n",
       "    }\n",
       "\n",
       "    .dataframe thead th {\n",
       "        text-align: right;\n",
       "    }\n",
       "</style>\n",
       "<table border=\"1\" class=\"dataframe\">\n",
       "  <thead>\n",
       "    <tr style=\"text-align: right;\">\n",
       "      <th></th>\n",
       "      <th>concept</th>\n",
       "      <th>getty_aat</th>\n",
       "      <th>dbpedia</th>\n",
       "      <th>wikidata</th>\n",
       "      <th>ef_entity_collection</th>\n",
       "    </tr>\n",
       "  </thead>\n",
       "  <tbody>\n",
       "    <tr>\n",
       "      <th>0</th>\n",
       "      <td>building</td>\n",
       "      <td>http://vocab.getty.edu/aat/300004792</td>\n",
       "      <td>http://dbpedia.org/page/Building</td>\n",
       "      <td>http://www.wikidata.org/entity/Q41176</td>\n",
       "      <td>http://data.europeana.eu/concept/base/29</td>\n",
       "    </tr>\n",
       "    <tr>\n",
       "      <th>1</th>\n",
       "      <td>archaeological_site</td>\n",
       "      <td>http://vocab.getty.edu/aat/300266151</td>\n",
       "      <td>http://dbpedia.org/page/Archaeological_site</td>\n",
       "      <td>http://www.wikidata.org/entity/Q839954</td>\n",
       "      <td>NaN</td>\n",
       "    </tr>\n",
       "    <tr>\n",
       "      <th>2</th>\n",
       "      <td>cartoon</td>\n",
       "      <td>http://vocab.getty.edu/aat/300123430</td>\n",
       "      <td>http://dbpedia.org/page/Cartoon</td>\n",
       "      <td>http://www.wikidata.org/entity/Q627603</td>\n",
       "      <td>NaN</td>\n",
       "    </tr>\n",
       "    <tr>\n",
       "      <th>3</th>\n",
       "      <td>ceramics</td>\n",
       "      <td>http://vocab.getty.edu/aat/300151343</td>\n",
       "      <td>http://dbpedia.org/resource/Ceramic\\n</td>\n",
       "      <td>http://www.wikidata.org/entity/Q45621</td>\n",
       "      <td>http://data.europeana.eu/concept/base/31</td>\n",
       "    </tr>\n",
       "    <tr>\n",
       "      <th>4</th>\n",
       "      <td>clothing</td>\n",
       "      <td>http://vocab.getty.edu/aat/300266639</td>\n",
       "      <td>http://dbpedia.org/page/Clothing</td>\n",
       "      <td>http://www.wikidata.org/entity/Q11460</td>\n",
       "      <td>NaN</td>\n",
       "    </tr>\n",
       "    <tr>\n",
       "      <th>5</th>\n",
       "      <td>costume_accessories</td>\n",
       "      <td>http://vocab.getty.edu/aat/300209273</td>\n",
       "      <td>NaN</td>\n",
       "      <td>http://www.wikidata.org/entity/Q1065579</td>\n",
       "      <td>NaN</td>\n",
       "    </tr>\n",
       "    <tr>\n",
       "      <th>6</th>\n",
       "      <td>drawing</td>\n",
       "      <td>http://vocab.getty.edu/aat/300033973</td>\n",
       "      <td>http://dbpedia.org/resource/Drawing</td>\n",
       "      <td>http://www.wikidata.org/entity/Q93184</td>\n",
       "      <td>http://data.europeana.eu/concept/base/35</td>\n",
       "    </tr>\n",
       "    <tr>\n",
       "      <th>7</th>\n",
       "      <td>map</td>\n",
       "      <td>http://vocab.getty.edu/aat/300028094</td>\n",
       "      <td>http://dbpedia.org/resource/Map</td>\n",
       "      <td>http://www.wikidata.org/entity/Q4006</td>\n",
       "      <td>http://data.europeana.eu/concept/base/43</td>\n",
       "    </tr>\n",
       "    <tr>\n",
       "      <th>8</th>\n",
       "      <td>furniture</td>\n",
       "      <td>http://vocab.getty.edu/aat/300037680</td>\n",
       "      <td>http://dbpedia.org/page/Furniture</td>\n",
       "      <td>http://www.wikidata.org/entity/Q14745</td>\n",
       "      <td>http://data.europeana.eu/concept/base/37</td>\n",
       "    </tr>\n",
       "    <tr>\n",
       "      <th>9</th>\n",
       "      <td>textile</td>\n",
       "      <td>http://vocab.getty.edu/aat/300231565</td>\n",
       "      <td>http://dbpedia.org/page/Textile</td>\n",
       "      <td>http://www.wikidata.org/entity/Q28823</td>\n",
       "      <td>http://data.europeana.eu/concept/base/55</td>\n",
       "    </tr>\n",
       "  </tbody>\n",
       "</table>\n",
       "</div>"
      ],
      "text/plain": [
       "               concept                             getty_aat  \\\n",
       "0             building  http://vocab.getty.edu/aat/300004792   \n",
       "1  archaeological_site  http://vocab.getty.edu/aat/300266151   \n",
       "2              cartoon  http://vocab.getty.edu/aat/300123430   \n",
       "3             ceramics  http://vocab.getty.edu/aat/300151343   \n",
       "4            clothing   http://vocab.getty.edu/aat/300266639   \n",
       "5  costume_accessories  http://vocab.getty.edu/aat/300209273   \n",
       "6              drawing  http://vocab.getty.edu/aat/300033973   \n",
       "7                  map  http://vocab.getty.edu/aat/300028094   \n",
       "8            furniture  http://vocab.getty.edu/aat/300037680   \n",
       "9              textile  http://vocab.getty.edu/aat/300231565   \n",
       "\n",
       "                                       dbpedia  \\\n",
       "0             http://dbpedia.org/page/Building   \n",
       "1  http://dbpedia.org/page/Archaeological_site   \n",
       "2              http://dbpedia.org/page/Cartoon   \n",
       "3        http://dbpedia.org/resource/Ceramic\\n   \n",
       "4             http://dbpedia.org/page/Clothing   \n",
       "5                                          NaN   \n",
       "6          http://dbpedia.org/resource/Drawing   \n",
       "7              http://dbpedia.org/resource/Map   \n",
       "8            http://dbpedia.org/page/Furniture   \n",
       "9              http://dbpedia.org/page/Textile   \n",
       "\n",
       "                                  wikidata  \\\n",
       "0    http://www.wikidata.org/entity/Q41176   \n",
       "1   http://www.wikidata.org/entity/Q839954   \n",
       "2   http://www.wikidata.org/entity/Q627603   \n",
       "3    http://www.wikidata.org/entity/Q45621   \n",
       "4    http://www.wikidata.org/entity/Q11460   \n",
       "5  http://www.wikidata.org/entity/Q1065579   \n",
       "6    http://www.wikidata.org/entity/Q93184   \n",
       "7     http://www.wikidata.org/entity/Q4006   \n",
       "8    http://www.wikidata.org/entity/Q14745   \n",
       "9    http://www.wikidata.org/entity/Q28823   \n",
       "\n",
       "                       ef_entity_collection  \n",
       "0  http://data.europeana.eu/concept/base/29  \n",
       "1                                       NaN  \n",
       "2                                       NaN  \n",
       "3  http://data.europeana.eu/concept/base/31  \n",
       "4                                       NaN  \n",
       "5                                       NaN  \n",
       "6  http://data.europeana.eu/concept/base/35  \n",
       "7  http://data.europeana.eu/concept/base/43  \n",
       "8  http://data.europeana.eu/concept/base/37  \n",
       "9  http://data.europeana.eu/concept/base/55  "
      ]
     },
     "execution_count": 3,
     "metadata": {},
     "output_type": "execute_result"
    }
   ],
   "source": [
    "df.head(10)"
   ]
  },
  {
   "cell_type": "code",
   "execution_count": null,
   "metadata": {},
   "outputs": [],
   "source": []
  },
  {
   "cell_type": "code",
   "execution_count": 83,
   "metadata": {},
   "outputs": [],
   "source": [
    "df = pd.read_csv('/home/jcejudo/rd-img-classification-pilot/dataset_10000.csv')"
   ]
  },
  {
   "cell_type": "code",
   "execution_count": 84,
   "metadata": {},
   "outputs": [
    {
     "data": {
      "text/plain": [
       "(132042, 5)"
      ]
     },
     "execution_count": 84,
     "metadata": {},
     "output_type": "execute_result"
    }
   ],
   "source": [
    "df.shape"
   ]
  },
  {
   "cell_type": "code",
   "execution_count": 85,
   "metadata": {},
   "outputs": [
    {
     "data": {
      "text/plain": [
       "20"
      ]
     },
     "execution_count": 85,
     "metadata": {},
     "output_type": "execute_result"
    }
   ],
   "source": [
    "len(df.category.unique())"
   ]
  },
  {
   "cell_type": "code",
   "execution_count": 94,
   "metadata": {},
   "outputs": [
    {
     "name": "stdout",
     "output_type": "stream",
     "text": [
      "building 10000\n",
      "ceramics 10000\n",
      "drawing 10000\n",
      "furniture 7478\n",
      "jewellery 4765\n",
      "map 10000\n",
      "painting 10000\n",
      "photograph 10000\n",
      "postcard 10000\n",
      "sculpture 10000\n",
      "specimen 10000\n",
      "tapestry 341\n",
      "textile 10000\n",
      "toy 8500\n",
      "woodwork 1020\n",
      "archaeological_site 1105\n",
      "clothing 2032\n",
      "costume_accessories 2166\n",
      "inscription 434\n",
      "weaponry 4201\n"
     ]
    }
   ],
   "source": [
    "for cat in df.category.unique():\n",
    "    print(cat,df.loc[df['category'] == cat].shape[0])"
   ]
  },
  {
   "cell_type": "code",
   "execution_count": 2,
   "metadata": {},
   "outputs": [
    {
     "name": "stdout",
     "output_type": "stream",
     "text": [
      "building 2996\n",
      "toy 2893\n",
      "map 2795\n",
      "textile 2939\n",
      "clothing 1974\n",
      "woodwork 959\n",
      "photograph 3000\n",
      "ceramics 2971\n",
      "inscription 434\n",
      "costume_accessories 2159\n",
      "furniture 2844\n",
      "weaponry 2988\n",
      "archaeological_site 690\n",
      "painting 2991\n",
      "specimen 2789\n",
      "tapestry 325\n",
      "drawing 1853\n",
      "postcard 3000\n",
      "sculpture 3000\n",
      "jewellery 2958\n"
     ]
    }
   ],
   "source": [
    "#check downloaded images\n",
    "data_dir = '/home/jcejudo/rd-img-classification-pilot/training_data_3000'\n",
    "for cat in os.listdir(data_dir):\n",
    "    print(cat, len(os.listdir(os.path.join(data_dir,cat))))"
   ]
  },
  {
   "cell_type": "code",
   "execution_count": null,
   "metadata": {},
   "outputs": [],
   "source": []
  },
  {
   "cell_type": "code",
   "execution_count": null,
   "metadata": {},
   "outputs": [],
   "source": []
  },
  {
   "cell_type": "code",
   "execution_count": 3,
   "metadata": {},
   "outputs": [
    {
     "name": "stdout",
     "output_type": "stream",
     "text": [
      "toy.csv\n",
      "food.csv\n",
      "painting.csv\n",
      "map.csv\n",
      "costume_accessories.csv\n",
      "medal.csv\n",
      "musical_instrument.csv\n",
      "poster.csv\n",
      "postcard.csv\n",
      "inscription.csv\n",
      "furniture.csv\n",
      "archaeological_site.csv\n",
      "sculpture.csv\n",
      "building.csv\n",
      "machinery.csv\n",
      "photograph.csv\n",
      "metalwork.csv\n",
      "weaponry.csv\n",
      "tapestry.csv\n",
      "glassware.csv\n",
      "clothing.csv\n",
      "drawing.csv\n",
      "jewellery.csv\n",
      "tool.csv\n",
      "ceramics.csv\n",
      "toy.csv\n",
      "painting.csv\n",
      "map.csv\n",
      "postcard.csv\n",
      "furniture.csv\n",
      "sculpture.csv\n",
      "building.csv\n",
      "photograph.csv\n",
      "textile.csv\n",
      "woodwork.csv\n",
      "specimen.csv\n",
      "tapestry.csv\n",
      "drawing.csv\n",
      "jewellery.csv\n",
      "ceramics.csv\n",
      "(18744, 6)\n",
      "Index(['skos_concept', 'URI', 'ID', 'URL', 'filename', 'category'], dtype='object')\n"
     ]
    }
   ],
   "source": [
    "#data wrangling\n",
    "\n",
    "# get europeana context from labeled images\n",
    "def replace_str(x,target,rep):\n",
    "    return x.replace(target,rep)+'.jpg'\n",
    "\n",
    "def get_fname(path):\n",
    "    return os.path.split(path)[1]\n",
    "\n",
    "\n",
    "def get_europeana_df(data):\n",
    "    #get a df with europeana context\n",
    "    df_root_path = '/home/jcejudo/rd-img-classification-pilot/data'\n",
    "    df_path = os.path.join(df_root_path,data)\n",
    "    df = pd.DataFrame(columns=['category', 'skos_concept', 'URI', 'ID', 'URL'])\n",
    "    for fname in os.listdir(df_path):\n",
    "        #print(fname)\n",
    "        df = pd.concat((df,pd.read_csv(os.path.join(df_path,fname))))\n",
    "\n",
    "    df['filename'] = df['ID'].apply(lambda x:replace_str(x,'/','__placeholder__'))\n",
    "    df.pop('category')\n",
    "    df['filename'].values\n",
    "\n",
    "    #get dataframe for labeled files\n",
    "    root_data_path = '/home/jcejudo/rd-img-classification-pilot/training_data/'\n",
    "    data_path = os.path.join(root_data_path,data)\n",
    "    file_df = path2DataFrame(data_path)\n",
    "    file_df['filename'] = file_df['file_path'].apply(lambda x:get_fname(x))\n",
    "    file_df.pop('file_path')\n",
    "    file_df['filename'].values\n",
    "\n",
    "    #merge by filename\n",
    "    result = pd.merge(df, file_df, on=\"filename\")\n",
    "    return result\n",
    "\n",
    "\n",
    "getty_df = get_europeana_df('getty')\n",
    "ec_df = get_europeana_df('ec')\n",
    "df = pd.concat((getty_df,ec_df))\n",
    "print(df.shape)\n",
    "print(df.columns)\n",
    "\n",
    "#save csv\n",
    "filename = 'dataset.csv'\n",
    "dest_path = '/home/jcejudo/rd-img-classification-pilot/data'\n",
    "dest_file_path = os.path.join(dest_path,filename)\n",
    "df.to_csv(dest_file_path,index=False)\n"
   ]
  },
  {
   "cell_type": "code",
   "execution_count": 4,
   "metadata": {},
   "outputs": [],
   "source": []
  }
 ],
 "metadata": {
  "kernelspec": {
   "display_name": "Python 3",
   "language": "python",
   "name": "python3"
  },
  "language_info": {
   "codemirror_mode": {
    "name": "ipython",
    "version": 3
   },
   "file_extension": ".py",
   "mimetype": "text/x-python",
   "name": "python",
   "nbconvert_exporter": "python",
   "pygments_lexer": "ipython3",
   "version": "3.8.5"
  }
 },
 "nbformat": 4,
 "nbformat_minor": 4
}
