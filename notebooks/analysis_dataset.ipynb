{
 "cells": [
  {
   "cell_type": "code",
   "execution_count": 1,
   "metadata": {},
   "outputs": [],
   "source": [
    "import sys\n",
    "sys.path.append('../src')\n",
    "from ds_utils import *\n",
    "from PIL import Image"
   ]
  },
  {
   "cell_type": "code",
   "execution_count": 83,
   "metadata": {},
   "outputs": [],
   "source": [
    "df = pd.read_csv('/home/jcejudo/rd-img-classification-pilot/dataset_10000.csv')"
   ]
  },
  {
   "cell_type": "code",
   "execution_count": 84,
   "metadata": {},
   "outputs": [
    {
     "data": {
      "text/plain": [
       "(132042, 5)"
      ]
     },
     "execution_count": 84,
     "metadata": {},
     "output_type": "execute_result"
    }
   ],
   "source": [
    "df.shape"
   ]
  },
  {
   "cell_type": "code",
   "execution_count": 85,
   "metadata": {},
   "outputs": [
    {
     "data": {
      "text/plain": [
       "20"
      ]
     },
     "execution_count": 85,
     "metadata": {},
     "output_type": "execute_result"
    }
   ],
   "source": [
    "len(df.category.unique())"
   ]
  },
  {
   "cell_type": "code",
   "execution_count": 94,
   "metadata": {},
   "outputs": [
    {
     "name": "stdout",
     "output_type": "stream",
     "text": [
      "building 10000\n",
      "ceramics 10000\n",
      "drawing 10000\n",
      "furniture 7478\n",
      "jewellery 4765\n",
      "map 10000\n",
      "painting 10000\n",
      "photograph 10000\n",
      "postcard 10000\n",
      "sculpture 10000\n",
      "specimen 10000\n",
      "tapestry 341\n",
      "textile 10000\n",
      "toy 8500\n",
      "woodwork 1020\n",
      "archaeological_site 1105\n",
      "clothing 2032\n",
      "costume_accessories 2166\n",
      "inscription 434\n",
      "weaponry 4201\n"
     ]
    }
   ],
   "source": [
    "for cat in df.category.unique():\n",
    "    print(cat,df.loc[df['category'] == cat].shape[0])"
   ]
  },
  {
   "cell_type": "code",
   "execution_count": 2,
   "metadata": {},
   "outputs": [
    {
     "name": "stdout",
     "output_type": "stream",
     "text": [
      "building 2996\n",
      "toy 2893\n",
      "map 2795\n",
      "textile 2939\n",
      "clothing 1974\n",
      "woodwork 959\n",
      "photograph 3000\n",
      "ceramics 2971\n",
      "inscription 434\n",
      "costume_accessories 2159\n",
      "furniture 2844\n",
      "weaponry 2988\n",
      "archaeological_site 690\n",
      "painting 2991\n",
      "specimen 2789\n",
      "tapestry 325\n",
      "drawing 1853\n",
      "postcard 3000\n",
      "sculpture 3000\n",
      "jewellery 2958\n"
     ]
    }
   ],
   "source": [
    "#check downloaded images\n",
    "data_dir = '/home/jcejudo/rd-img-classification-pilot/training_data_3000'\n",
    "for cat in os.listdir(data_dir):\n",
    "    print(cat, len(os.listdir(os.path.join(data_dir,cat))))"
   ]
  },
  {
   "cell_type": "code",
   "execution_count": null,
   "metadata": {},
   "outputs": [],
   "source": []
  },
  {
   "cell_type": "code",
   "execution_count": null,
   "metadata": {},
   "outputs": [],
   "source": []
  },
  {
   "cell_type": "code",
   "execution_count": 3,
   "metadata": {},
   "outputs": [
    {
     "name": "stdout",
     "output_type": "stream",
     "text": [
      "toy.csv\n",
      "food.csv\n",
      "painting.csv\n",
      "map.csv\n",
      "costume_accessories.csv\n",
      "medal.csv\n",
      "musical_instrument.csv\n",
      "poster.csv\n",
      "postcard.csv\n",
      "inscription.csv\n",
      "furniture.csv\n",
      "archaeological_site.csv\n",
      "sculpture.csv\n",
      "building.csv\n",
      "machinery.csv\n",
      "photograph.csv\n",
      "metalwork.csv\n",
      "weaponry.csv\n",
      "tapestry.csv\n",
      "glassware.csv\n",
      "clothing.csv\n",
      "drawing.csv\n",
      "jewellery.csv\n",
      "tool.csv\n",
      "ceramics.csv\n",
      "toy.csv\n",
      "painting.csv\n",
      "map.csv\n",
      "postcard.csv\n",
      "furniture.csv\n",
      "sculpture.csv\n",
      "building.csv\n",
      "photograph.csv\n",
      "textile.csv\n",
      "woodwork.csv\n",
      "specimen.csv\n",
      "tapestry.csv\n",
      "drawing.csv\n",
      "jewellery.csv\n",
      "ceramics.csv\n",
      "(18744, 6)\n",
      "Index(['skos_concept', 'URI', 'ID', 'URL', 'filename', 'category'], dtype='object')\n"
     ]
    }
   ],
   "source": [
    "#data wrangling\n",
    "\n",
    "# get europeana context from labeled images\n",
    "def replace_str(x,target,rep):\n",
    "    return x.replace(target,rep)+'.jpg'\n",
    "\n",
    "def get_fname(path):\n",
    "    return os.path.split(path)[1]\n",
    "\n",
    "\n",
    "def get_europeana_df(data):\n",
    "    #get a df with europeana context\n",
    "    df_root_path = '/home/jcejudo/rd-img-classification-pilot/data'\n",
    "    df_path = os.path.join(df_root_path,data)\n",
    "    df = pd.DataFrame(columns=['category', 'skos_concept', 'URI', 'ID', 'URL'])\n",
    "    for fname in os.listdir(df_path):\n",
    "        #print(fname)\n",
    "        df = pd.concat((df,pd.read_csv(os.path.join(df_path,fname))))\n",
    "\n",
    "    df['filename'] = df['ID'].apply(lambda x:replace_str(x,'/','__placeholder__'))\n",
    "    df.pop('category')\n",
    "    df['filename'].values\n",
    "\n",
    "    #get dataframe for labeled files\n",
    "    root_data_path = '/home/jcejudo/rd-img-classification-pilot/training_data/'\n",
    "    data_path = os.path.join(root_data_path,data)\n",
    "    file_df = path2DataFrame(data_path)\n",
    "    file_df['filename'] = file_df['file_path'].apply(lambda x:get_fname(x))\n",
    "    file_df.pop('file_path')\n",
    "    file_df['filename'].values\n",
    "\n",
    "    #merge by filename\n",
    "    result = pd.merge(df, file_df, on=\"filename\")\n",
    "    return result\n",
    "\n",
    "\n",
    "getty_df = get_europeana_df('getty')\n",
    "ec_df = get_europeana_df('ec')\n",
    "df = pd.concat((getty_df,ec_df))\n",
    "print(df.shape)\n",
    "print(df.columns)\n",
    "\n",
    "#save csv\n",
    "filename = 'dataset.csv'\n",
    "dest_path = '/home/jcejudo/rd-img-classification-pilot/data'\n",
    "dest_file_path = os.path.join(dest_path,filename)\n",
    "df.to_csv(dest_file_path,index=False)\n"
   ]
  },
  {
   "cell_type": "code",
   "execution_count": 4,
   "metadata": {},
   "outputs": [],
   "source": []
  }
 ],
 "metadata": {
  "kernelspec": {
   "display_name": "Python 3",
   "language": "python",
   "name": "python3"
  },
  "language_info": {
   "codemirror_mode": {
    "name": "ipython",
    "version": 3
   },
   "file_extension": ".py",
   "mimetype": "text/x-python",
   "name": "python",
   "nbconvert_exporter": "python",
   "pygments_lexer": "ipython3",
   "version": "3.8.5"
  }
 },
 "nbformat": 4,
 "nbformat_minor": 4
}
