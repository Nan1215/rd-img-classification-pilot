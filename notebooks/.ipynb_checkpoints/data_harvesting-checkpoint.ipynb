{
 "cells": [
  {
   "cell_type": "code",
   "execution_count": 1,
   "metadata": {},
   "outputs": [],
   "source": [
    "import sys\n",
    "sys.path.append('/home/jcejudo/rd-europeana-python-api')\n",
    "\n",
    "from europeana.api import EuropeanaAPI\n",
    "from europeana.edm import *\n",
    "from europeana.utils import url2img"
   ]
  },
  {
   "cell_type": "code",
   "execution_count": 8,
   "metadata": {},
   "outputs": [
    {
     "name": "stdout",
     "output_type": "stream",
     "text": [
      "True\n"
     ]
    }
   ],
   "source": [
    "eu = EuropeanaAPI('api2demo')\n",
    "r = eu.search('Amsterdam', n = 10, what='painting',sort = {'term':'score','order':'asc'})\n",
    "print(r.success)"
   ]
  },
  {
   "cell_type": "code",
   "execution_count": 13,
   "metadata": {},
   "outputs": [
    {
     "name": "stdout",
     "output_type": "stream",
     "text": [
      "dict_keys(['apikey', 'success', 'requestNumber', 'itemsCount', 'totalResults', 'items'])\n",
      "<class 'list'>\n",
      "dict_keys(['completeness', 'country', 'dataProvider', 'dcCreator', 'dcCreatorLangAware', 'dcDescription', 'dcDescriptionLangAware', 'dcTitleLangAware', 'edmConcept', 'edmConceptLabel', 'edmConceptPrefLabelLangAware', 'edmDatasetName', 'edmIsShownAt', 'edmIsShownBy', 'edmPreview', 'europeanaCollectionName', 'europeanaCompleteness', 'guid', 'id', 'index', 'language', 'link', 'previewNoDistribute', 'provider', 'rights', 'score', 'timestamp', 'timestamp_created', 'timestamp_created_epoch', 'timestamp_update', 'timestamp_update_epoch', 'title', 'type', 'ugc'])\n"
     ]
    }
   ],
   "source": [
    "if r.success:\n",
    "    #print(dir(r))\n",
    "    \n",
    "    response = r.api_response\n",
    "    \n",
    "    print(response.keys())\n",
    "    \n",
    "    items = response['items']\n",
    "    \n",
    "    print(type(items))\n",
    "    \n",
    "    print(items[0].keys())\n",
    "    \n",
    "    \n",
    "    \n",
    "# for i,edm in enumerate(r.edm_items):\n",
    "\n",
    "#   if edm.title:\n",
    "#     print(edm.title.lang)\n",
    "\n"
   ]
  },
  {
   "cell_type": "code",
   "execution_count": 19,
   "metadata": {},
   "outputs": [
    {
     "name": "stdout",
     "output_type": "stream",
     "text": [
      "dict_keys(['completeness', 'country', 'dataProvider', 'dcCreator', 'dcCreatorLangAware', 'dcDescription', 'dcDescriptionLangAware', 'dcTitleLangAware', 'edmConcept', 'edmConceptLabel', 'edmConceptPrefLabelLangAware', 'edmDatasetName', 'edmIsShownAt', 'edmIsShownBy', 'edmPreview', 'europeanaCollectionName', 'europeanaCompleteness', 'guid', 'id', 'index', 'language', 'link', 'previewNoDistribute', 'provider', 'rights', 'score', 'timestamp', 'timestamp_created', 'timestamp_created_epoch', 'timestamp_update', 'timestamp_update_epoch', 'title', 'type', 'ugc'])\n",
      "['http://europeana.parisiennedephotographie.fr/SSEU/Files/f374c4d96e287568cc17e5ceb23da5ca8b5ec2ffc196644ca9338609a41e59b5']\n"
     ]
    }
   ],
   "source": [
    "item = items[0]\n",
    "\n",
    "print(item.keys())\n",
    "\n",
    "print(item['edmIsShownBy'])"
   ]
  }
 ],
 "metadata": {
  "kernelspec": {
   "display_name": "Python 3",
   "language": "python",
   "name": "python3"
  },
  "language_info": {
   "codemirror_mode": {
    "name": "ipython",
    "version": 3
   },
   "file_extension": ".py",
   "mimetype": "text/x-python",
   "name": "python",
   "nbconvert_exporter": "python",
   "pygments_lexer": "ipython3",
   "version": "3.8.5"
  }
 },
 "nbformat": 4,
 "nbformat_minor": 4
}
