{
 "cells": [
  {
   "cell_type": "code",
   "execution_count": 20,
   "metadata": {},
   "outputs": [],
   "source": [
    "import pandas as pd\n",
    "import os"
   ]
  },
  {
   "cell_type": "code",
   "execution_count": 22,
   "metadata": {},
   "outputs": [
    {
     "name": "stdout",
     "output_type": "stream",
     "text": [
      "building 4128\n"
     ]
    }
   ],
   "source": [
    "#check number of images per cat in dataset\n",
    "data_path = '/home/jcejudo/training_data_3000_open_permission'\n",
    "\n",
    "for cat in os.listdir(data_path):\n",
    "    print(cat,len(os.listdir(os.path.join(data_path,cat))))"
   ]
  },
  {
   "cell_type": "code",
   "execution_count": 21,
   "metadata": {},
   "outputs": [
    {
     "name": "stdout",
     "output_type": "stream",
     "text": [
      "(7434, 5)\n",
      "(7024, 5)\n",
      "(14458, 5)\n"
     ]
    }
   ],
   "source": [
    "#merge open and permission dataset\n",
    "\n",
    "permission_df = pd.read_csv('/home/jcejudo/rd-img-classification-pilot/data/multilabel/multilabel_dataset_permission.csv')\n",
    "print(permission_df.shape)\n",
    "open_df = pd.read_csv('/home/jcejudo/rd-img-classification-pilot/data/multilabel/multilabel_dataset_open.csv')\n",
    "print(open_df.shape)\n",
    "df = pd.concat((open_df,permission_df))\n",
    "print(df.shape)\n",
    "saving_dir = '/home/jcejudo/rd-img-classification-pilot/data/multilabel'\n",
    "filename = 'multilabel_dataset_open_permission.csv'\n",
    "df.to_csv(os.path.join(saving_dir,filename),index=False)"
   ]
  },
  {
   "cell_type": "code",
   "execution_count": 2,
   "metadata": {},
   "outputs": [],
   "source": [
    "#sample small dataset\n",
    "\n",
    "from shutil import copyfile\n",
    "import numpy as np\n",
    "\n",
    "def create_dir(path):\n",
    "    if not os.path.exists(path):\n",
    "        os.mkdir(path)\n",
    "\n",
    "n = 100\n",
    "saving_dir = '/home/jcejudo/training_data_100'\n",
    "create_dir(saving_dir)\n",
    "\n",
    "data_path = '/home/jcejudo/training_data_3000_open_permission'\n",
    "for cat in os.listdir(data_path):\n",
    "    create_dir(os.path.join(saving_dir,cat))\n",
    "    filename_list = os.listdir(os.path.join(data_path,cat))\n",
    "    idx = np.random.randint(len(filename_list),size=n)\n",
    "    filtered_filename_list = [filename_list[i] for i in idx]\n",
    "    \n",
    "    for fname in filtered_filename_list:\n",
    "        src_path = os.path.join(data_path,cat,fname)\n",
    "        dest_path = os.path.join(saving_dir,cat,fname)\n",
    "        copyfile(src_path,dest_path)\n",
    "        \n",
    "        \n",
    "    \n"
   ]
  },
  {
   "cell_type": "code",
   "execution_count": 5,
   "metadata": {},
   "outputs": [
    {
     "name": "stdout",
     "output_type": "stream",
     "text": [
      "building\n",
      "toy\n",
      "map\n",
      "textile\n",
      "clothing\n",
      "woodwork\n",
      "photograph\n",
      "ceramics\n",
      "inscription\n",
      "costume_accessories\n",
      "furniture\n",
      "weaponry\n",
      "archaeological_site\n",
      "painting\n",
      "specimen\n",
      "tapestry\n",
      "drawing\n",
      "postcard\n",
      "sculpture\n",
      "jewellery\n"
     ]
    }
   ],
   "source": [
    "#open all images of dataset\n",
    "from PIL import Image\n",
    "data_path = '/home/jcejudo/training_data_3000_open_permission'\n",
    "\n",
    "for cat in os.listdir(data_path):\n",
    "    print(cat)\n",
    "    for fname in os.listdir(os.path.join(data_path,cat)):\n",
    "        Image.open(os.path.join(data_path,cat,fname))"
   ]
  },
  {
   "cell_type": "code",
   "execution_count": 26,
   "metadata": {},
   "outputs": [
    {
     "name": "stdout",
     "output_type": "stream",
     "text": [
      "(9070, 6)\n"
     ]
    }
   ],
   "source": [
    "import pandas as pd\n",
    "\n",
    "from pathlib import Path\n",
    "\n",
    "def id_to_filename(id):\n",
    "    return id.replace('/','[ph]')\n",
    "\n",
    "data_dir = Path('/home/jcejudo/training_data_multilabel_open_permission')\n",
    "\n",
    "df_path = Path('/home/jcejudo/rd-img-classification-pilot/data/multilabel/multilabel_dataset_open_permission.csv')\n",
    "df = pd.read_csv(df_path)\n",
    "#filter images in df contained in data_path\n",
    "imgs_list = list(data_dir.iterdir())\n",
    "# df['filepath'] = df['ID'].apply(lambda x:data_dir.joinpath(id_to_filename(x)+'.jpg'))\n",
    "# df = df.loc[df['filepath'].apply(lambda x: Path(x) in imgs_list)]\n",
    "df['n_labels'] = df['category'].apply(lambda x: len(x.split()))\n",
    "df = df.sort_values(by='n_labels',ascending=False)\n",
    "df = df.drop_duplicates(keep='first',subset='ID')\n",
    "print(df.shape)"
   ]
  },
  {
   "cell_type": "code",
   "execution_count": 27,
   "metadata": {},
   "outputs": [
    {
     "name": "stdout",
     "output_type": "stream",
     "text": [
      "2022608 2229\n",
      "2022022 62\n",
      "07202 17\n",
      "2058635 24\n",
      "154 145\n",
      "318 3\n",
      "91619 556\n",
      "9200579 27\n",
      "440 21\n",
      "2020704 275\n",
      "2021648 28\n",
      "2048434 81\n",
      "91650 85\n",
      "08534 25\n",
      "2026011 3\n",
      "08602 72\n",
      "2048017 249\n",
      "2026104 17\n",
      "0940409 39\n",
      "2026118 5\n",
      "180 14\n",
      "094041 39\n",
      "2048011 14\n",
      "2058619 2\n",
      "2024904 11\n",
      "2058608 3\n",
      "09408 18\n",
      "2024914 21\n",
      "2064137 414\n",
      "03919 53\n",
      "2048221 2\n",
      "2020741 3\n",
      "2026007 1\n",
      "2032015 319\n",
      "15601 85\n",
      "0940417 26\n",
      "76 13\n",
      "08609 12\n",
      "2023863 14\n",
      "2021663 4\n",
      "191 1\n",
      "2021008 3\n",
      "91627 13\n",
      "02030 1\n",
      "401 1013\n",
      "15514 18\n",
      "2022067 14\n",
      "122 24\n",
      "2026102 6\n",
      "213 5\n",
      "92027 1\n",
      "2048087 5\n",
      "2058629 3\n",
      "2021647 1\n",
      "0940416 1\n",
      "2023835 3\n",
      "91668 5\n",
      "91608 190\n",
      "91643 244\n",
      "91644 108\n",
      "410 2\n",
      "90402 190\n",
      "2021650 14\n",
      "916123 24\n",
      "437 12\n",
      "188 29\n",
      "2021646 2\n",
      "916124 19\n",
      "916105 7\n",
      "916106 54\n",
      "91698 7\n",
      "09403 22\n",
      "91673 38\n",
      "91652 1104\n",
      "2058401 9\n",
      "916118 12\n",
      "91672 32\n",
      "916121 57\n",
      "463 1\n",
      "91616 4\n",
      "91659 1\n",
      "91669 21\n",
      "916119 6\n",
      "91609 1\n",
      "2048128 42\n",
      "2021641 9\n",
      "2048047 10\n",
      "2058611 2\n",
      "2021675 2\n",
      "2021012 23\n",
      "2021657 62\n",
      "378 142\n",
      "2021633 200\n",
      "2021659 4\n",
      "91674 1\n",
      "916122 5\n",
      "91642 1\n",
      "92070 1\n",
      "2021651 42\n",
      "916110 2\n",
      "91622 22\n",
      "2021626 106\n",
      "916109 4\n",
      "91607 10\n",
      "73 1\n",
      "134 1\n",
      "92085 3\n",
      "2058612 4\n",
      "916114 1\n",
      "11603 1\n",
      "9200369 6\n",
      "916113 1\n",
      "2024903 1\n",
      "91694 2\n",
      "2022419 1\n"
     ]
    }
   ],
   "source": [
    "\n",
    "df['dataset'] = df['ID'].apply(lambda x: x.split('/')[1])\n",
    "\n",
    "unique_datasets = df.dataset.unique()\n",
    "\n",
    "for dataset in unique_datasets:\n",
    "    print(dataset,df.loc[df['dataset'] == dataset].shape[0])\n"
   ]
  },
  {
   "cell_type": "code",
   "execution_count": null,
   "metadata": {},
   "outputs": [],
   "source": []
  },
  {
   "cell_type": "code",
   "execution_count": 28,
   "metadata": {},
   "outputs": [
    {
     "name": "stdout",
     "output_type": "stream",
     "text": [
      "17\n",
      "['building', 'jewellery', 'furniture', 'clothing', 'woodwork', 'ceramics', 'inscription', 'postcard', 'specimen', 'drawing', 'toy', 'sculpture', 'tapestry', 'photograph', 'textile', 'map', 'painting']\n"
     ]
    }
   ],
   "source": [
    "unique_categories = []\n",
    "for cat in df['category'].values:\n",
    "    unique_categories += cat.split()\n",
    "    \n",
    "unique_categories = list(set(unique_categories))\n",
    "print(len(unique_categories))\n",
    "print(unique_categories)"
   ]
  },
  {
   "cell_type": "code",
   "execution_count": 29,
   "metadata": {},
   "outputs": [
    {
     "data": {
      "text/plain": [
       "array(['painting postcard tapestry', 'building painting postcard',\n",
       "       'ceramics furniture textile', 'ceramics furniture painting',\n",
       "       'ceramics drawing painting', 'building sculpture textile',\n",
       "       'building photograph toy', 'drawing painting postcard',\n",
       "       'drawing painting sculpture', 'furniture jewellery painting',\n",
       "       'drawing sculpture textile', 'drawing photograph textile',\n",
       "       'building map postcard', 'building painting tapestry',\n",
       "       'ceramics textile toy', 'drawing furniture painting',\n",
       "       'furniture painting sculpture', 'furniture photograph tapestry',\n",
       "       'map photograph postcard', 'building drawing painting',\n",
       "       'building drawing postcard', 'building furniture painting',\n",
       "       'furniture painting tapestry', 'furniture photograph toy',\n",
       "       'furniture photograph textile', 'furniture painting toy',\n",
       "       'furniture painting textile', 'furniture postcard tapestry',\n",
       "       'furniture tapestry textile', 'jewellery painting sculpture',\n",
       "       'furniture sculpture toy', 'drawing painting', 'drawing map',\n",
       "       'drawing jewellery', 'ceramics textile', 'drawing furniture',\n",
       "       'ceramics toy', 'ceramics clothing', 'ceramics sculpture',\n",
       "       'drawing photograph', 'drawing postcard', 'drawing sculpture',\n",
       "       'furniture painting', 'furniture map', 'furniture jewellery',\n",
       "       'drawing tapestry', 'drawing textile', 'drawing toy',\n",
       "       'building postcard', 'building photograph', 'building painting',\n",
       "       'building textile', 'ceramics drawing', 'building sculpture',\n",
       "       'building tapestry', 'building toy', 'building woodwork',\n",
       "       'ceramics furniture', 'ceramics painting', 'ceramics jewellery',\n",
       "       'ceramics photograph', 'photograph postcard', 'textile toy',\n",
       "       'photograph textile', 'photograph toy', 'photograph sculpture',\n",
       "       'postcard sculpture', 'tapestry textile', 'sculpture inscription',\n",
       "       'sculpture toy', 'postcard toy', 'sculpture textile',\n",
       "       'furniture toy', 'furniture woodwork', 'jewellery painting',\n",
       "       'jewellery photograph', 'jewellery postcard',\n",
       "       'jewellery sculpture', 'jewellery textile', 'furniture textile',\n",
       "       'painting sculpture', 'map textile', 'map postcard',\n",
       "       'map sculpture', 'map photograph', 'jewellery toy', 'map painting',\n",
       "       'painting postcard', 'painting photograph', 'furniture photograph',\n",
       "       'furniture sculpture', 'furniture tapestry', 'furniture postcard',\n",
       "       'painting tapestry', 'painting textile', 'painting toy',\n",
       "       'painting inscription', 'building ceramics', 'building map',\n",
       "       'building drawing', 'building furniture', 'building jewellery',\n",
       "       'photograph woodwork', 'photograph tapestry', 'postcard textile',\n",
       "       'textile woodwork', 'map specimen', 'drawing woodwork'],\n",
       "      dtype=object)"
      ]
     },
     "execution_count": 29,
     "metadata": {},
     "output_type": "execute_result"
    }
   ],
   "source": [
    "df.category.unique()"
   ]
  },
  {
   "cell_type": "code",
   "execution_count": 30,
   "metadata": {},
   "outputs": [
    {
     "name": "stdout",
     "output_type": "stream",
     "text": [
      "painting postcard tapestry 1\n",
      "building painting postcard 2\n",
      "ceramics furniture textile 2\n",
      "ceramics furniture painting 1\n",
      "ceramics drawing painting 1\n",
      "building sculpture textile 1\n",
      "building photograph toy 1\n",
      "drawing painting postcard 2\n",
      "drawing painting sculpture 4\n",
      "furniture jewellery painting 14\n",
      "drawing sculpture textile 1\n",
      "drawing photograph textile 1\n",
      "building map postcard 1\n",
      "building painting tapestry 1\n",
      "ceramics textile toy 2\n",
      "drawing furniture painting 1\n",
      "furniture painting sculpture 16\n",
      "furniture photograph tapestry 3\n",
      "map photograph postcard 3\n",
      "building drawing painting 11\n",
      "building drawing postcard 4\n",
      "building furniture painting 1\n",
      "furniture painting tapestry 4\n",
      "furniture photograph toy 4\n",
      "furniture photograph textile 1\n",
      "furniture painting toy 2\n",
      "furniture painting textile 3\n",
      "furniture postcard tapestry 3\n",
      "furniture tapestry textile 1\n",
      "jewellery painting sculpture 1\n",
      "furniture sculpture toy 2\n",
      "drawing painting 303\n",
      "drawing map 135\n",
      "drawing jewellery 5\n",
      "ceramics textile 81\n",
      "drawing furniture 112\n",
      "ceramics toy 63\n",
      "ceramics clothing 1\n",
      "ceramics sculpture 707\n",
      "drawing photograph 284\n",
      "drawing postcard 354\n",
      "drawing sculpture 57\n",
      "furniture painting 168\n",
      "furniture map 49\n",
      "furniture jewellery 22\n",
      "drawing tapestry 7\n",
      "drawing textile 12\n",
      "drawing toy 22\n",
      "building postcard 935\n",
      "building photograph 1187\n",
      "building painting 76\n",
      "building textile 37\n",
      "ceramics drawing 38\n",
      "building sculpture 47\n",
      "building tapestry 6\n",
      "building toy 15\n",
      "building woodwork 4\n",
      "ceramics furniture 31\n",
      "ceramics painting 12\n",
      "ceramics jewellery 10\n",
      "ceramics photograph 19\n",
      "photograph postcard 1373\n",
      "textile toy 499\n",
      "photograph textile 40\n",
      "photograph toy 9\n",
      "photograph sculpture 249\n",
      "postcard sculpture 39\n",
      "tapestry textile 135\n",
      "sculpture inscription 25\n",
      "sculpture toy 106\n",
      "postcard toy 6\n",
      "sculpture textile 67\n",
      "furniture toy 49\n",
      "furniture woodwork 20\n",
      "jewellery painting 20\n",
      "jewellery photograph 4\n",
      "jewellery postcard 7\n",
      "jewellery sculpture 4\n",
      "jewellery textile 35\n",
      "furniture textile 158\n",
      "painting sculpture 480\n",
      "map textile 18\n",
      "map postcard 13\n",
      "map sculpture 2\n",
      "map photograph 57\n",
      "jewellery toy 11\n",
      "map painting 6\n",
      "painting postcard 31\n",
      "painting photograph 26\n",
      "furniture photograph 144\n",
      "furniture sculpture 55\n",
      "furniture tapestry 15\n",
      "furniture postcard 14\n",
      "painting tapestry 2\n",
      "painting textile 227\n",
      "painting toy 3\n",
      "painting inscription 3\n",
      "building ceramics 1\n",
      "building map 13\n",
      "building drawing 118\n",
      "building furniture 43\n",
      "building jewellery 7\n",
      "photograph woodwork 31\n",
      "photograph tapestry 6\n",
      "postcard textile 2\n",
      "textile woodwork 1\n",
      "map specimen 1\n",
      "drawing woodwork 1\n"
     ]
    }
   ],
   "source": [
    "for comb in df.category.unique(): \n",
    "    print(comb,df.loc[df['category'] == comb].shape[0])"
   ]
  },
  {
   "cell_type": "code",
   "execution_count": 40,
   "metadata": {},
   "outputs": [
    {
     "name": "stdout",
     "output_type": "stream",
     "text": [
      "{'building': 2511, 'jewellery': 140, 'furniture': 938, 'clothing': 1, 'woodwork': 57, 'ceramics': 969, 'inscription': 28, 'postcard': 2790, 'specimen': 1, 'drawing': 1473, 'toy': 794, 'sculpture': 1863, 'tapestry': 184, 'photograph': 3442, 'textile': 1324, 'map': 298, 'painting': 1422}\n",
      "{'building': 7.262046993229789, 'jewellery': 130.25, 'furniture': 19.440298507462686, 'clothing': 18235.0, 'woodwork': 319.9122807017544, 'ceramics': 18.818369453044376, 'inscription': 651.25, 'postcard': 6.53584229390681, 'specimen': 18235.0, 'drawing': 12.379497623896809, 'toy': 22.965994962216623, 'sculpture': 9.78797638217928, 'tapestry': 99.10326086956522, 'photograph': 5.297791981406159, 'textile': 13.772658610271904, 'map': 61.191275167785236, 'painting': 12.823488045007032}\n"
     ]
    }
   ],
   "source": [
    "#frequency of each category\n",
    "occurrence_dict = {}\n",
    "for cat in unique_categories:\n",
    "    #print(cat,df.loc[df['category'].apply(lambda x: cat in x)].shape[0])\n",
    "    occurrence_dict.update({cat:df.loc[df['category'].apply(lambda x: cat in x)].shape[0]})\n",
    "    \n",
    "total = sum(occurrence_dict.values())\n",
    "\n",
    "print(occurrence_dict)\n",
    "\n",
    "weights_dict = {k:total/v for k,v in occurrence_dict.items()}\n",
    "\n",
    "print(weights_dict)\n"
   ]
  },
  {
   "cell_type": "code",
   "execution_count": null,
   "metadata": {},
   "outputs": [],
   "source": [
    "def drop_categories(df,cat_list):\n",
    "    "
   ]
  },
  {
   "cell_type": "code",
   "execution_count": null,
   "metadata": {},
   "outputs": [],
   "source": []
  },
  {
   "cell_type": "code",
   "execution_count": null,
   "metadata": {},
   "outputs": [],
   "source": []
  },
  {
   "cell_type": "code",
   "execution_count": 18,
   "metadata": {},
   "outputs": [],
   "source": [
    "df.to_csv('/home/jcejudo/streamlit_app/cleaned_multilabel.csv',index = False)"
   ]
  },
  {
   "cell_type": "code",
   "execution_count": 19,
   "metadata": {},
   "outputs": [],
   "source": [
    "import pandas as pd\n",
    "df_path = Path('/home/jcejudo/streamlit_app/cleaned_multilabel.csv')\n",
    "df = pd.read_csv(df_path)\n"
   ]
  },
  {
   "cell_type": "code",
   "execution_count": 25,
   "metadata": {},
   "outputs": [
    {
     "data": {
      "text/plain": [
       "['woodwork',\n",
       " 'jewellery',\n",
       " 'painting',\n",
       " 'ceramics',\n",
       " 'sculpture',\n",
       " 'specimen',\n",
       " 'textile',\n",
       " 'map',\n",
       " 'tapestry',\n",
       " 'drawing',\n",
       " 'postcard',\n",
       " 'building',\n",
       " 'photograph',\n",
       " 'furniture',\n",
       " 'toy']"
      ]
     },
     "execution_count": 25,
     "metadata": {},
     "output_type": "execute_result"
    }
   ],
   "source": [
    "unique_categories = []\n",
    "for cat in df['category'].values:\n",
    "    unique_categories += cat.split()\n",
    "    \n",
    "unique_categories = list(set(unique_categories))"
   ]
  },
  {
   "cell_type": "code",
   "execution_count": null,
   "metadata": {},
   "outputs": [],
   "source": []
  },
  {
   "cell_type": "code",
   "execution_count": null,
   "metadata": {},
   "outputs": [],
   "source": []
  }
 ],
 "metadata": {
  "kernelspec": {
   "display_name": "Python 3",
   "language": "python",
   "name": "python3"
  },
  "language_info": {
   "codemirror_mode": {
    "name": "ipython",
    "version": 3
   },
   "file_extension": ".py",
   "mimetype": "text/x-python",
   "name": "python",
   "nbconvert_exporter": "python",
   "pygments_lexer": "ipython3",
   "version": "3.8.5"
  }
 },
 "nbformat": 4,
 "nbformat_minor": 4
}
