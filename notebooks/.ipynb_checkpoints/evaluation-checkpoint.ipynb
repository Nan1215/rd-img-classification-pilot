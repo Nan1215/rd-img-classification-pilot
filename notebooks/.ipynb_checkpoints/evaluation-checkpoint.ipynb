{
 "cells": [
  {
   "cell_type": "code",
   "execution_count": 26,
   "metadata": {},
   "outputs": [
    {
     "name": "stdout",
     "output_type": "stream",
     "text": [
      "(421, 4)\n"
     ]
    }
   ],
   "source": [
    "import pandas as pd\n",
    "import os\n",
    "\n",
    "#load evaluation dataset\n",
    "eval_df = pd.read_csv('/home/jcejudo/rd-img-classification-pilot/eval_dataset.csv')\n",
    "eval_df = eval_df[['URI', 'ID', 'URL', 'category']]\n",
    "eval_df = eval_df.dropna()\n",
    "print(eval_df.shape)"
   ]
  },
  {
   "cell_type": "code",
   "execution_count": 13,
   "metadata": {},
   "outputs": [
    {
     "data": {
      "text/html": [
       "<div>\n",
       "<style scoped>\n",
       "    .dataframe tbody tr th:only-of-type {\n",
       "        vertical-align: middle;\n",
       "    }\n",
       "\n",
       "    .dataframe tbody tr th {\n",
       "        vertical-align: top;\n",
       "    }\n",
       "\n",
       "    .dataframe thead th {\n",
       "        text-align: right;\n",
       "    }\n",
       "</style>\n",
       "<table border=\"1\" class=\"dataframe\">\n",
       "  <thead>\n",
       "    <tr style=\"text-align: right;\">\n",
       "      <th></th>\n",
       "      <th>URI</th>\n",
       "      <th>ID</th>\n",
       "      <th>URL</th>\n",
       "      <th>category</th>\n",
       "    </tr>\n",
       "  </thead>\n",
       "  <tbody>\n",
       "    <tr>\n",
       "      <th>0</th>\n",
       "      <td>https://www.europeana.eu/en/item/2064105/Museu...</td>\n",
       "      <td>/2064105/Museu_ProvidedCHO_Hallwylska_museet_1...</td>\n",
       "      <td>http://emuseumplus.lsh.se/eMuseumPlus?service=...</td>\n",
       "      <td>costume_accessories</td>\n",
       "    </tr>\n",
       "    <tr>\n",
       "      <th>1</th>\n",
       "      <td>https://www.europeana.eu/en/item/2064105/Museu...</td>\n",
       "      <td>/2064105/Museu_ProvidedCHO_Hallwylska_museet_1...</td>\n",
       "      <td>http://emuseumplus.lsh.se/eMuseumPlus?service=...</td>\n",
       "      <td>costume_accessories</td>\n",
       "    </tr>\n",
       "    <tr>\n",
       "      <th>2</th>\n",
       "      <td>http://data.europeana.eu/item/2064105/Museu_Pr...</td>\n",
       "      <td>/2064105/Museu_ProvidedCHO_Hallwylska_museet_1...</td>\n",
       "      <td>http://emuseumplus.lsh.se/eMuseumPlus?service=...</td>\n",
       "      <td>costume_accessories</td>\n",
       "    </tr>\n",
       "    <tr>\n",
       "      <th>3</th>\n",
       "      <td>http://data.europeana.eu/item/2064105/Museu_Pr...</td>\n",
       "      <td>/2064105/Museu_ProvidedCHO_Livrustkammaren_47046</td>\n",
       "      <td>http://emuseumplus.lsh.se/eMuseumPlus?service=...</td>\n",
       "      <td>costume_accessories</td>\n",
       "    </tr>\n",
       "    <tr>\n",
       "      <th>4</th>\n",
       "      <td>https://www.europeana.eu/en/item/2064105/Museu...</td>\n",
       "      <td>/2064105/Museu_ProvidedCHO_Hallwylska_museet_1...</td>\n",
       "      <td>http://emuseumplus.lsh.se/eMuseumPlus?service=...</td>\n",
       "      <td>costume_accessories</td>\n",
       "    </tr>\n",
       "  </tbody>\n",
       "</table>\n",
       "</div>"
      ],
      "text/plain": [
       "                                                 URI  \\\n",
       "0  https://www.europeana.eu/en/item/2064105/Museu...   \n",
       "1  https://www.europeana.eu/en/item/2064105/Museu...   \n",
       "2  http://data.europeana.eu/item/2064105/Museu_Pr...   \n",
       "3  http://data.europeana.eu/item/2064105/Museu_Pr...   \n",
       "4  https://www.europeana.eu/en/item/2064105/Museu...   \n",
       "\n",
       "                                                  ID  \\\n",
       "0  /2064105/Museu_ProvidedCHO_Hallwylska_museet_1...   \n",
       "1  /2064105/Museu_ProvidedCHO_Hallwylska_museet_1...   \n",
       "2  /2064105/Museu_ProvidedCHO_Hallwylska_museet_1...   \n",
       "3   /2064105/Museu_ProvidedCHO_Livrustkammaren_47046   \n",
       "4  /2064105/Museu_ProvidedCHO_Hallwylska_museet_1...   \n",
       "\n",
       "                                                 URL             category  \n",
       "0  http://emuseumplus.lsh.se/eMuseumPlus?service=...  costume_accessories  \n",
       "1  http://emuseumplus.lsh.se/eMuseumPlus?service=...  costume_accessories  \n",
       "2  http://emuseumplus.lsh.se/eMuseumPlus?service=...  costume_accessories  \n",
       "3  http://emuseumplus.lsh.se/eMuseumPlus?service=...  costume_accessories  \n",
       "4  http://emuseumplus.lsh.se/eMuseumPlus?service=...  costume_accessories  "
      ]
     },
     "execution_count": 13,
     "metadata": {},
     "output_type": "execute_result"
    }
   ],
   "source": [
    "df.head()"
   ]
  },
  {
   "cell_type": "code",
   "execution_count": 16,
   "metadata": {},
   "outputs": [],
   "source": [
    "ID = df['ID'].iloc[0]\n",
    "fname = ID.replace('/','[ph]')+'.jpg'"
   ]
  },
  {
   "cell_type": "code",
   "execution_count": 27,
   "metadata": {},
   "outputs": [],
   "source": [
    "training_data_path = '/home/jcejudo/training_data_3000'\n",
    "fpath_list = []\n",
    "fname_list = []\n",
    "for cat in os.listdir(training_data_path):\n",
    "    cat_path = os.path.join(training_data_path,cat)\n",
    "    fname_list += os.listdir(cat_path)\n",
    "    fpath_list += [os.path.join(cat_path,fname) for fname in os.listdir(cat_path)]\n",
    "\n",
    "    \n"
   ]
  },
  {
   "cell_type": "code",
   "execution_count": null,
   "metadata": {},
   "outputs": [],
   "source": [
    "for ID in eval_df['ID'].values:\n",
    "    fname = ID.replace('/','[ph]')+'.jpg'\n",
    "    if fname in flist:\n",
    "        print()\n",
    "    "
   ]
  },
  {
   "cell_type": "code",
   "execution_count": null,
   "metadata": {},
   "outputs": [],
   "source": [
    "#load training_set\n",
    "df = pd.read_csv('/home/jcejudo/rd-img-classification-pilot/dataset.csv')\n",
    "\n"
   ]
  },
  {
   "cell_type": "code",
   "execution_count": null,
   "metadata": {},
   "outputs": [],
   "source": []
  }
 ],
 "metadata": {
  "kernelspec": {
   "display_name": "Python 3",
   "language": "python",
   "name": "python3"
  },
  "language_info": {
   "codemirror_mode": {
    "name": "ipython",
    "version": 3
   },
   "file_extension": ".py",
   "mimetype": "text/x-python",
   "name": "python",
   "nbconvert_exporter": "python",
   "pygments_lexer": "ipython3",
   "version": "3.8.5"
  }
 },
 "nbformat": 4,
 "nbformat_minor": 4
}
