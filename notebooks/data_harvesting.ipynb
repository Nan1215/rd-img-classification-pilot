{
 "cells": [
  {
   "cell_type": "code",
   "execution_count": 1,
   "metadata": {},
   "outputs": [],
   "source": [
    "import sys\n",
    "sys.path.append('/home/jcejudo/rd-europeana-python-api')\n",
    "\n",
    "from europeana.api import EuropeanaAPI\n",
    "from europeana.edm import *\n",
    "from europeana.utils import url2img"
   ]
  },
  {
   "cell_type": "code",
   "execution_count": 34,
   "metadata": {},
   "outputs": [],
   "source": [
    "theme_list = ['archaeology','art','fashion','industrial',\n",
    "      'manuscript','map','migration','music','nature',\n",
    "      'newspaper','photography','sport','ww1']"
   ]
  },
  {
   "cell_type": "code",
   "execution_count": 61,
   "metadata": {},
   "outputs": [
    {
     "name": "stdout",
     "output_type": "stream",
     "text": [
      "True\n"
     ]
    }
   ],
   "source": [
    "eu = EuropeanaAPI('api2demo')\n",
    "r = eu.search('Amsterdam', n = 10, theme='industrial',sort = {'term':'score','order':'asc'})\n",
    "print(r.success)"
   ]
  },
  {
   "cell_type": "code",
   "execution_count": 56,
   "metadata": {},
   "outputs": [],
   "source": [
    "import pprint"
   ]
  },
  {
   "cell_type": "code",
   "execution_count": 63,
   "metadata": {},
   "outputs": [
    {
     "name": "stdout",
     "output_type": "stream",
     "text": [
      "http://gredos.usal.es/jspui/bitstream/10366/128414/1/DDHFP_HerreraOrozcoCG_Nacimientodeuda.pdf\n",
      "Europeana API: Failed to get media image\n",
      "http://afbeeldingen.gahetna.nl/naa/thumb/500x500/ec359204-4e57-4b7a-abb4-e657645e22c0.jpg\n",
      "(339, 500)\n",
      "http://afbeeldingen.gahetna.nl/naa/thumb/500x500/f078493c-f111-4611-6f56-d58c789d2876.jpg\n",
      "(466, 500)\n",
      "http://afbeeldingen.gahetna.nl/naa/thumb/500x500/d750364f-4957-b22a-b751-bbdbd4d3f5dc.jpg\n",
      "(500, 358)\n",
      "http://afbeeldingen.gahetna.nl/naa/thumb/500x500/57a5c346-a7e2-4a28-85d0-4ed4db351ce3.jpg\n",
      "(305, 500)\n",
      "http://afbeeldingen.gahetna.nl/naa/thumb/500x500/063e0c98-425f-412b-9220-6a43262c3820.jpg\n",
      "(365, 500)\n",
      "http://contribute.europeana.eu/media/8af86500-85f6-0136-d3ef-6eee0af6a585\n",
      "(3500, 3500)\n",
      "http://afbeeldingen.gahetna.nl/naa/thumb/500x500/043907b4-81f6-6533-c24d-34d88ceb163c.jpg\n",
      "(500, 424)\n",
      "http://openbeelden.nl/files/03/743838.3831.RVDSCHIEDAM__-HRE00022380_3146000_3838000.mp4\n",
      "Europeana API: Failed to get media image\n",
      "https://lh3.ggpht.com/rLEZCKso6ALLZjPArt24vQbayeYvAQt_JJ_v8F2tWe8UP294GWNHqbrLA2w4t92JhdZ-26Yo21MHRXnfbLq3cm3zldc=s0\n",
      "(1073, 1310)\n"
     ]
    }
   ],
   "source": [
    "def get_url(item):\n",
    "    url = None\n",
    "    if 'edmIsShownBy' in item.keys():\n",
    "        url = item['edmIsShownBy']\n",
    "    if not url and 'edmPreview' in item.keys():\n",
    "        url = item['edmPreview']\n",
    "    return url[0]\n",
    "\n",
    "if r.success:\n",
    "    response = r.api_response\n",
    "    items = response['items']\n",
    "    for item in items:\n",
    "        id = item['id']\n",
    "        url = get_url(item)\n",
    "        img = url2img(url)\n",
    "        \n",
    "        if img:\n",
    "            print(img.size)\n",
    "        \n",
    "        #pprint.pprint(item)\n",
    "        \n",
    "        thumbnail = item['edmPreview'][0]\n",
    "        uri = thumbnail.split('uri=')[1].replace('%3A',':').replace('%2F','/')        \n",
    "        print(uri)\n",
    "        \n",
    "        \n",
    "\n",
    "        \n"
   ]
  },
  {
   "cell_type": "code",
   "execution_count": 24,
   "metadata": {},
   "outputs": [],
   "source": [
    "item = items[2]\n",
    "\n",
    "\n",
    "\n",
    "#print(url[0])\n",
    "\n",
    "\n",
    "    \n",
    "    \n",
    "\n",
    "    \n",
    "# if 'edmIsShownBy' in item.keys():\n",
    "#     url = item['edmIsShownBy']\n",
    "\n",
    "# print(item.keys())\n",
    "\n",
    "# print(item['edmIsShownBy'])"
   ]
  }
 ],
 "metadata": {
  "kernelspec": {
   "display_name": "Python 3",
   "language": "python",
   "name": "python3"
  },
  "language_info": {
   "codemirror_mode": {
    "name": "ipython",
    "version": 3
   },
   "file_extension": ".py",
   "mimetype": "text/x-python",
   "name": "python",
   "nbconvert_exporter": "python",
   "pygments_lexer": "ipython3",
   "version": "3.8.5"
  }
 },
 "nbformat": 4,
 "nbformat_minor": 4
}
